{
  "nbformat": 4,
  "nbformat_minor": 0,
  "metadata": {
    "colab": {
      "provenance": []
    },
    "kernelspec": {
      "name": "python3",
      "display_name": "Python 3"
    },
    "language_info": {
      "name": "python"
    }
  },
  "cells": [
    {
      "cell_type": "markdown",
      "source": [
        "# **Theory** **Questions**"
      ],
      "metadata": {
        "id": "WwAxY0AnLODz"
      }
    },
    {
      "cell_type": "markdown",
      "source": [
        "1. What is the difference between a function and a method in Python?\n",
        "- A function is a block of code that is not associated with any particular object or class.\n",
        "- a method is a function that is associated with an object or class."
      ],
      "metadata": {
        "id": "W-siMglFLVu3"
      }
    },
    {
      "cell_type": "markdown",
      "source": [
        "2. Explain the concept of function arguments and parameters in Python.\n",
        "- Function arguments are the actual values you pass to the function when you call it.\n",
        "- Function parameters are variables defined inside the function definition.\n"
      ],
      "metadata": {
        "id": "UZnFY9xGMe8G"
      }
    },
    {
      "cell_type": "markdown",
      "source": [
        "3. What are the different ways to define and call a function in Python?\n",
        "- In Python, you define a function with the def keyword.\n",
        "- In Python, different ways to call a function are Positional arguments and Keyword arguments."
      ],
      "metadata": {
        "id": "H1O3XH_MOSgt"
      }
    },
    {
      "cell_type": "markdown",
      "source": [
        "4. What is the purpose of the `return` statement in a Python function?\n",
        "- The return statement in Python is used to send a result back from a function to the part of the program that called it.\n",
        "\n",
        "\n",
        "\n"
      ],
      "metadata": {
        "id": "JuTPu4g9OSkC"
      }
    },
    {
      "cell_type": "markdown",
      "source": [
        "5. What are iterators in Python and how do they differ from iterables?\n",
        "- An iterator is a tool that goes through that collection one item at a time.\n",
        "- An iterable is a collection you can loop over."
      ],
      "metadata": {
        "id": "j-4uR8dvQbFX"
      }
    },
    {
      "cell_type": "markdown",
      "source": [
        "6. Explain the concept of generators in Python and how they are defined.\n",
        "- A generator is a special type of iterator that produces values one at a time using the yield keyword.\n",
        "- A generator is defined using a generator function or expression."
      ],
      "metadata": {
        "id": "uH3CgXeRRAHD"
      }
    },
    {
      "cell_type": "markdown",
      "source": [
        "7. What are the advantages of using generators over regular functions?\n",
        "- The advantages are -\n",
        "- 1. Generators compute values only when needed.\n",
        "- 2. Generators can represent infinite streams."
      ],
      "metadata": {
        "id": "ZYTll4wQRmcK"
      }
    },
    {
      "cell_type": "markdown",
      "source": [
        "8. What is a lambda function in Python and when is it typically used?\n",
        "- A lambda function is a small function defined without a name, using the keyword lambda.\n",
        "- It is typically used when you need a small, simple function temporarily."
      ],
      "metadata": {
        "id": "ixC5WQ9RSdeC"
      }
    },
    {
      "cell_type": "markdown",
      "source": [
        "9. Explain the purpose and usage of the `map()` function in Python.\n",
        "- 'map()' function lets you transform every item in an iterable efficiently,  without writing explicit loops. It's especially useful with lambda functions."
      ],
      "metadata": {
        "id": "sfgKmSExTB-x"
      }
    },
    {
      "cell_type": "markdown",
      "source": [
        "10. What is the difference between `map()`, `reduce()`, and `filter()` functions in Python?\n",
        "- map() function apply function to each item.\n",
        "- reduce() function reduce iterable to single value.\n",
        "- filter() function select items based on condition."
      ],
      "metadata": {
        "id": "0jykb-A1T2AT"
      }
    },
    {
      "cell_type": "markdown",
      "source": [
        "# **Practical** **Questions**:"
      ],
      "metadata": {
        "id": "DyRHlGedUueQ"
      }
    },
    {
      "cell_type": "code",
      "source": [
        "#1. Write a Python function that takes a list of numbers as input and returns the sum of all even numbers in the list.\n",
        "def sum_even_numbers(n):\n",
        "    sum = 0\n",
        "    for num in n:\n",
        "        if num % 2 == 0:\n",
        "            sum += num\n",
        "    return sum"
      ],
      "metadata": {
        "id": "XB2TbeCaU4M6"
      },
      "execution_count": 4,
      "outputs": []
    },
    {
      "cell_type": "code",
      "source": [
        "sum_even_numbers([1,2,3,4,5,6,7,8,9])"
      ],
      "metadata": {
        "colab": {
          "base_uri": "https://localhost:8080/"
        },
        "id": "DPwo71WYVmoW",
        "outputId": "431459fc-70c8-4595-ea0d-34f78a35b550"
      },
      "execution_count": 5,
      "outputs": [
        {
          "output_type": "execute_result",
          "data": {
            "text/plain": [
              "20"
            ]
          },
          "metadata": {},
          "execution_count": 5
        }
      ]
    },
    {
      "cell_type": "code",
      "source": [
        "#2. Create a Python function that accepts a string and returns the reverse of that string.\n",
        "def reverse_string(s):\n",
        "    return s[::-1]"
      ],
      "metadata": {
        "id": "Sp7pnsRBV-VY"
      },
      "execution_count": 6,
      "outputs": []
    },
    {
      "cell_type": "code",
      "source": [
        "reverse_string('Tushar')"
      ],
      "metadata": {
        "colab": {
          "base_uri": "https://localhost:8080/",
          "height": 36
        },
        "id": "2o5d7RFsWIfB",
        "outputId": "3a67e4b5-621d-4067-b1d2-f0feac5ccfc5"
      },
      "execution_count": 7,
      "outputs": [
        {
          "output_type": "execute_result",
          "data": {
            "text/plain": [
              "'rahsuT'"
            ],
            "application/vnd.google.colaboratory.intrinsic+json": {
              "type": "string"
            }
          },
          "metadata": {},
          "execution_count": 7
        }
      ]
    },
    {
      "cell_type": "code",
      "source": [
        "#3. Implement a Python function that takes a list of integers and returns a new list containing the squares of each number.\n",
        "def square_numbers(n):\n",
        "    return [num**2 for num in n]\n"
      ],
      "metadata": {
        "id": "pdUPh8dQWQ_l"
      },
      "execution_count": 8,
      "outputs": []
    },
    {
      "cell_type": "code",
      "source": [
        "square_numbers([1,2,3,4,5])"
      ],
      "metadata": {
        "colab": {
          "base_uri": "https://localhost:8080/"
        },
        "id": "1Lcm0rERWa_P",
        "outputId": "ec745b58-0a55-4138-d576-ca98d90f5e4b"
      },
      "execution_count": 9,
      "outputs": [
        {
          "output_type": "execute_result",
          "data": {
            "text/plain": [
              "[1, 4, 9, 16, 25]"
            ]
          },
          "metadata": {},
          "execution_count": 9
        }
      ]
    },
    {
      "cell_type": "code",
      "source": [
        "#4. Write a Python function that checks if a given number is prime or not from 1 to 200.\n",
        "def is_prime(n):\n",
        "    if n < 2:\n",
        "        return False\n",
        "    for i in range(2, int(n**0.5) + 1):\n",
        "        if n % i == 0:\n",
        "            return False\n",
        "    return True\n"
      ],
      "metadata": {
        "id": "iHt5i6g6WiLH"
      },
      "execution_count": 10,
      "outputs": []
    },
    {
      "cell_type": "code",
      "source": [
        "is_prime(29)"
      ],
      "metadata": {
        "colab": {
          "base_uri": "https://localhost:8080/"
        },
        "id": "XA8E-sEYWtf0",
        "outputId": "29c611af-f7f6-439f-a2aa-1ef1d5ad2ca0"
      },
      "execution_count": 15,
      "outputs": [
        {
          "output_type": "execute_result",
          "data": {
            "text/plain": [
              "True"
            ]
          },
          "metadata": {},
          "execution_count": 15
        }
      ]
    },
    {
      "cell_type": "code",
      "source": [
        "#5.Create an iterator class in Python that generates the Fibonacci sequence up to a specified number of terms.\n",
        "def fibonacci_generator(n):\n",
        "    a, b = 0, 1\n",
        "    for _ in range(n):\n",
        "        yield a\n",
        "        a, b = b, a + b"
      ],
      "metadata": {
        "id": "9OAz0U7pXCDW"
      },
      "execution_count": 16,
      "outputs": []
    },
    {
      "cell_type": "code",
      "source": [
        "fibonacci_generator(10)"
      ],
      "metadata": {
        "colab": {
          "base_uri": "https://localhost:8080/"
        },
        "id": "yhpdiLoxXVSb",
        "outputId": "6eead0b3-d4e1-4d79-d532-0577decf9aaf"
      },
      "execution_count": 17,
      "outputs": [
        {
          "output_type": "execute_result",
          "data": {
            "text/plain": [
              "<generator object fibonacci_generator at 0x7f6314ecfbc0>"
            ]
          },
          "metadata": {},
          "execution_count": 17
        }
      ]
    },
    {
      "cell_type": "code",
      "source": [
        "#6. Write a generator function in Python that yields the powers of 2 up to a given exponent.\n",
        "def power_of_two_generator(n):\n",
        "    for i in range(n + 1):\n",
        "        yield 2 ** i"
      ],
      "metadata": {
        "id": "pgAiomaKXbZD"
      },
      "execution_count": 18,
      "outputs": []
    },
    {
      "cell_type": "code",
      "source": [
        "power_of_two_generator(10)"
      ],
      "metadata": {
        "colab": {
          "base_uri": "https://localhost:8080/"
        },
        "id": "oKiNGb6MXj8x",
        "outputId": "8642795d-5609-4aaa-f046-f157f55876be"
      },
      "execution_count": 19,
      "outputs": [
        {
          "output_type": "execute_result",
          "data": {
            "text/plain": [
              "<generator object power_of_two_generator at 0x7f6314d1acf0>"
            ]
          },
          "metadata": {},
          "execution_count": 19
        }
      ]
    },
    {
      "cell_type": "code",
      "source": [
        "#7. Implement a generator function that reads a file line by line and yields each line as a string.\n",
        "def read_file_lines(file_path):\n",
        "    with open(file_path, 'r') as file:\n",
        "        for line in file:\n",
        "            yield line.strip()\n",
        "\n"
      ],
      "metadata": {
        "id": "wDnbs1gLXpnD"
      },
      "execution_count": 21,
      "outputs": []
    },
    {
      "cell_type": "code",
      "source": [
        "#8. Use a lambda function in Python to sort a list of tuples based on the second element of each tuple.\n",
        "data = [(1, 5), (3, 2), (2, 8), (4, 1)]\n",
        "sorted_data = sorted(data, key=lambda x: x[1])\n",
        "print(sorted_data)"
      ],
      "metadata": {
        "colab": {
          "base_uri": "https://localhost:8080/"
        },
        "id": "g7UBF8XBYQQZ",
        "outputId": "9ff7d4d2-846d-4ff6-ef49-57385b616909"
      },
      "execution_count": 23,
      "outputs": [
        {
          "output_type": "stream",
          "name": "stdout",
          "text": [
            "[(4, 1), (3, 2), (1, 5), (2, 8)]\n"
          ]
        }
      ]
    },
    {
      "cell_type": "code",
      "source": [
        "#9. Write a Python program that uses `map()` to convert a list of temperatures from Celsius to Fahrenheit.\n",
        "celsius_temperatures = [0, 10, 20, 30, 40]\n",
        "fahrenheit_temperatures = list(map(lambda c: (c * 9/5) + 32, celsius_temperatures))"
      ],
      "metadata": {
        "id": "r0PJCaUvYZDw"
      },
      "execution_count": 24,
      "outputs": []
    },
    {
      "cell_type": "code",
      "source": [
        "fahrenheit_temperatures"
      ],
      "metadata": {
        "colab": {
          "base_uri": "https://localhost:8080/"
        },
        "id": "3Q6SlvEzYkw6",
        "outputId": "c5648d82-acc7-4e16-93e6-a78a8cba9d4e"
      },
      "execution_count": 25,
      "outputs": [
        {
          "output_type": "execute_result",
          "data": {
            "text/plain": [
              "[32.0, 50.0, 68.0, 86.0, 104.0]"
            ]
          },
          "metadata": {},
          "execution_count": 25
        }
      ]
    },
    {
      "cell_type": "code",
      "source": [
        "#10. Create a Python program that uses `filter()` to remove all the vowels from a given string.\n",
        "def remove_vowels(s):\n",
        "  given = \"Tushar Thakur\"\n",
        "  result = filter(lambda char: char not in given, s)\n",
        "  return \"\".join(result)\n",
        "\n"
      ],
      "metadata": {
        "id": "q3wAwljzYrsM"
      },
      "execution_count": 26,
      "outputs": []
    }
  ]
}